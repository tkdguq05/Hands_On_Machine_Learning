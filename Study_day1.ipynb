{
 "cells": [
  {
   "cell_type": "markdown",
   "metadata": {},
   "source": [
    "## Hands On Machine Learning\n",
    "### Chap.1 한눈에 보는 머신러닝\n",
    "---"
   ]
  },
  {
   "cell_type": "markdown",
   "metadata": {},
   "source": [
    "#### 머신러닝 이란?  \n",
    "---\n",
    "   데이터로부터 학습할 수 있는 시스템을 만드는 것. 학습은 어떤 성능 지표가 더 나아지는 것을 뜻한다."
   ]
  },
  {
   "cell_type": "markdown",
   "metadata": {},
   "source": [
    "#### 머신러닝을 왜 사용할까?  \n",
    "---\n",
    "  1. 기존 솔루션으로는 많은 조정과 규칙이 필요한 문제, - 머신러닝 모델이 코드를 간단하고 더 잘 수행되도록 할 수 있다.\n",
    "  2. 기존 방법으로는 해결 방법이 없는 복잡한 문제, - 머신러닝 기법으로 해결 방법을 찾을 수 있다.\n",
    "  3. 유동적인 환경, - 머신러닝 시스템은 새로운 데이터에 적응할 수 있다.\n",
    "  4. 복잡한 문제와 대량 데이터에서 통찰을 얻고자 할때\n",
    "  "
   ]
  },
  {
   "cell_type": "markdown",
   "metadata": {},
   "source": [
    "#### 머신러닝 시스템의 종류\n",
    "  1. 지도학습과 비지도 학습 \n",
    "  2. 온라인학습과 배치 학습\n",
    "  3. 사례기반 학습, 모델기반 학습"
   ]
  },
  {
   "cell_type": "markdown",
   "metadata": {},
   "source": [
    "1. 지도학습 : 알고리즘에 넣는 train data에 label이 있는 경우\n",
    "  - Classification, /spam filter\n",
    "  - Regression, /prediction\n",
    "  \n",
    "    (Prediction은 미래를 예측한다는 말이 아니라,  \n",
    "    input을 넣었을때의 output이 나오는 작업을 말함.)"
   ]
  },
  {
   "cell_type": "markdown",
   "metadata": {},
   "source": [
    "#### 대표적인 Supervised Learning Algorithms\n",
    "* KNN\n",
    "* Linear Regression\n",
    "* Logistic Regression\n",
    "* Support Vector Machine\n",
    "* Decision Tree / Random Forest\n",
    "* Neural Network"
   ]
  },
  {
   "cell_type": "markdown",
   "metadata": {},
   "source": [
    "#### 대표적인 Unsupervised Learning Algorithms\n",
    "Clustering\n",
    "* K-Means\n",
    "* Hieraarchical Cluster Analysis  \n",
    "*Expectation Maximization  \n",
    "\n",
    "Visualization & Dimensionality Reduction\n",
    "* PCA\n",
    "* Kernal PCA  \n",
    "*Locally Linear Embedding\n",
    "* t-distributed Stochastic Neighbor Embedding\n",
    "\n",
    "Assiciation Rule Learning  \n",
    "  Apriori  \n",
    "  Eclat  \n",
    "\n",
    "Anomaly Detection, 이상탐지"
   ]
  },
  {
   "cell_type": "markdown",
   "metadata": {},
   "source": [
    "#### Semisupervised Learning\n",
    "- 처음의 input값에 대하여 비지도 학습으로 군집화 시키고, 가지고 있는 Label로 지도학습시키는 경우, Facebook의 얼굴인식"
   ]
  },
  {
   "cell_type": "markdown",
   "metadata": {},
   "source": [
    "#### Reinforcement Learning\n",
    " - 학습하는 시스템은 Agent, 환경을 관찰해서 행동을 하고, 그 결과로 보상 또는 벌점을 받음\n",
    " - 가장 큰 보상을 얻기 위해 정책이라고 부르는 최상의 전략을 '스스로' 학습함"
   ]
  },
  {
   "cell_type": "markdown",
   "metadata": {},
   "source": [
    "#### 배치학습과 온라인 학습\n",
    "  1. 배치학습 : 시스템이 점진적으로 학습하지 않음, 가용한 데이터를 모두 사용해서 하는 훈련\n",
    "    - 오프라인 학습\n",
    "    - 배운 것을 적용하기만 함\n",
    "    \n",
    "  2. 온라인학습 : 점진적으로 학습할 수 있는 알고리즘, 많은 양의 훈련 데이터를 사용할 때 사용\n",
    "    - mini-batch라고 부르는 작은 묶은 단위로 데이터를 주입해 훈련함\n",
    "    - 연속적으로 데이터를 받고 빠른 변화에 스스로 적응해야 하는 시스템에 적합함\n",
    "    - 컴퓨팅 자원이 제한된 경우  \n",
    "      - 학습률, Learning Rate가 높으면 빠르게 학습하지만, 전 데이터를 금방 잊음  \n",
    "      - Learning Rate가 낮으면 천천히 학습하지만, 잡음이나 대표성 없는 데이터 포인트에 덜 민감해짐\n",
    "  "
   ]
  },
  {
   "cell_type": "markdown",
   "metadata": {},
   "source": [
    "#### 사례기반 학습과 모델기반 학습\n",
    "  1. 사례기반 학습\n",
    "    * 단순히 기억하는 학습법, 사용자가 지정한대로 학습함, 유사도를 이용해 분류함\n",
    "      * 유사도\n",
    "        1. 유클라디안 거리 (단순 거리계산, 방향도X)\n",
    "        2. 자카드 유사도 (공통의 원소, 집합사이의 유사도)\n",
    "        3. 코사인 유사도 (방향고려)\n",
    "        4. 피어슨 유사도 (상관관계)  \n",
    "        \n",
    "  2. 모델기반 학습\n",
    "    * Model Selection\n",
    "      * Cost Function값을 최소화 하며 Train시킴, 최적값이 나오는 model 선정"
   ]
  },
  {
   "cell_type": "markdown",
   "metadata": {},
   "source": [
    "#### 머신러닝의 주요 도전 과제\n",
    "  1. 충분하지 않은 데이터\n",
    "  2. 대표성 없는 훈련 데이터 (Upsamling, downsamling, 선거-사전조사)\n",
    "  3. 낮은 품질의 데이터 (Outlier, Noise)\n",
    "  4. 관련없는 features (Feature selection, Feature Extraction-차원 축소 이용)\n",
    "  5. Over/Underfitting (Regularization, Hyperparameter Tuning)\n",
    "  "
   ]
  },
  {
   "cell_type": "markdown",
   "metadata": {},
   "source": [
    "#### 테스트와 검증\n",
    "  * Train test Split\n",
    "  * Validation Set - Cross Validation(subsets)\n",
    "  \n",
    "  ##### 훈련오차와 일반화 오차 모두 낮출 것"
   ]
  },
  {
   "cell_type": "markdown",
   "metadata": {},
   "source": [
    "---\n"
   ]
  }
 ],
 "metadata": {
  "kernelspec": {
   "display_name": "Python 3",
   "language": "python",
   "name": "python3"
  },
  "language_info": {
   "codemirror_mode": {
    "name": "ipython",
    "version": 3
   },
   "file_extension": ".py",
   "mimetype": "text/x-python",
   "name": "python",
   "nbconvert_exporter": "python",
   "pygments_lexer": "ipython3",
   "version": "3.6.3"
  }
 },
 "nbformat": 4,
 "nbformat_minor": 2
}
